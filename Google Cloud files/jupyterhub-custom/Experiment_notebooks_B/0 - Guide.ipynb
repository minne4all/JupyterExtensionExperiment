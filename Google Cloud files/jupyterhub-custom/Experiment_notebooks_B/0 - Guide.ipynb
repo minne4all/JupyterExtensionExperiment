{
 "cells": [
  {
   "cell_type": "markdown",
   "id": "5709d9b2-9481-4112-8ddf-e8eda885a8e3",
   "metadata": {
    "alternatives-data": "{\"versions\":[{\"source\":\"# Extension Guide \\n\\n\\r\\nThis notebook introduces the three main features of the extension you're using:\\r\\n- The execution graph\\r\\n- Alternative code cells\\r\\n- Collapsing and zooming into combined cells\\r\\n\\r\\nEach section includes short explanations and examples so you can try the features out directly within this notebook.\\r\\n\"}],\"activeIndex\":0}"
   },
   "source": [
    "# Extension Guide \n",
    "\n",
    "\n",
    "This notebook introduces the three main features of the extension you're using:\n",
    "- The execution graph\n",
    "- Alternative code cells\n",
    "- Collapsing and zooming into combined cells\n",
    "\n",
    "Each section includes short explanations and examples so you can try the features out directly within this notebook.\n"
   ]
  },
  {
   "cell_type": "markdown",
   "id": "fdce6d07-b380-4a90-8b8b-565d90cf1ed4",
   "metadata": {
    "alternatives-data": "{\"versions\":[{\"source\":\"## 1. Execution Graph\\n\\nThe execution graph shows the full structure of the notebook as a graph. It helps you see how cells relate to each other and where alternatives exist.\\n\\nYou can open the execution graph using the icon <img src=\\\"img/graph.svg\\\" width=\\\"15\\\"> in the left sidebar of JupyterLab. Once opened, you'll see each cell represented as a node in the graph. From there, you can view the entire notebook, only its code cells.\\n\\nThe graph is especially useful for navigating longer notebooks and understanding the flow of exploration.\\n\"}],\"activeIndex\":0}"
   },
   "source": [
    "## 1. Execution Graph\n",
    "\n",
    "The execution graph shows the full structure of the notebook as a graph. It helps you see how cells relate to each other and where alternatives exist.\n",
    "\n",
    "You can open the execution graph using the icon <img src=\"img/graph.svg\" width=\"15\"> in the left sidebar of JupyterLab. Once opened, you'll see each cell represented as a node in the graph. From there, you can view the entire notebook, only its code cells.\n",
    "\n",
    "The graph is especially useful for navigating longer notebooks and understanding the flow of exploration.\n"
   ]
  },
  {
   "cell_type": "markdown",
   "id": "4a08aa0f-2c01-4664-aceb-510c007368b6",
   "metadata": {
    "alternatives-data": "{\"versions\":[{\"source\":\"## 2. Alternative Code Cells\\n\\nSometimes you want to explore different implementations without duplicating cells or losing track of changes. The extension allows you to create alternative versions of any code cell.\\n\\nTo try this feature:\\n1. Select a code cell.\\n2. Click the plus icon <img src=\\\"img/add.svg\\\" width=\\\"15\\\"> to create a new alternative.\\n3. Switch between versions using the arrow buttons <img src=\\\"img/caret-left.svg\\\" width=\\\"15\\\"> <img src=\\\"img/caret-right.svg\\\" width=\\\"15\\\"> in the cell.\\n4. Click the trash icon <img src=\\\"img/delete.svg\\\" width=\\\"15\\\"> to delete an alternative version.\\n5. Open the execution graph and see how the alternatives are represented visually.\\n\\nOnly the currently selected alternative will run during execution. You can switch back and forth to experiment freely.\\n\"}],\"activeIndex\":0}"
   },
   "source": [
    "## 2. Alternative Code Cells\n",
    "\n",
    "Sometimes you want to explore different implementations without duplicating cells or losing track of changes. The extension allows you to create alternative versions of any code cell.\n",
    "\n",
    "To try this feature:\n",
    "1. Select a code cell.\n",
    "2. Click the plus icon <img src=\"img/add.svg\" width=\"15\"> to create a new alternative.\n",
    "3. Switch between versions using the arrow buttons <img src=\"img/caret-left.svg\" width=\"15\"> <img src=\"img/caret-right.svg\" width=\"15\"> in the cell.\n",
    "4. Click the trash icon <img src=\"img/delete.svg\" width=\"15\"> to delete an alternative version.\n",
    "5. Open the execution graph and see how the alternatives are represented visually.\n",
    "\n",
    "Only the currently selected alternative will run during execution. You can switch back and forth to experiment freely.\n"
   ]
  },
  {
   "cell_type": "code",
   "execution_count": null,
   "id": "f1b944b1-43fd-486e-a5f1-b0617f12bd22",
   "metadata": {
    "alternatives-data": "{\"versions\":[{\"source\":\"# Version 1\\nprint(\\\"This is version 1\\\")\"}],\"activeIndex\":0}"
   },
   "outputs": [],
   "source": [
    "# Version 1\n",
    "print(\"This is version 1\")"
   ]
  },
  {
   "cell_type": "markdown",
   "id": "79c8cfb2-1d8c-4c67-abd6-596acb5dd1d5",
   "metadata": {
    "alternatives-data": "{\"versions\":[{\"source\":\"Task: Create an alternative version of this cell that prints \\\"This is version 2\\\". Try switching between the versions and see how it affects the output. Then open the execution graph to observe how alternatives appear there.\"}],\"activeIndex\":0}"
   },
   "source": [
    "Task: Create an alternative version of this cell that prints \"This is version 2\". Try switching between the versions and see how it affects the output. Then open the execution graph to observe how alternatives appear there."
   ]
  },
  {
   "cell_type": "markdown",
   "id": "52f46e10-f494-4c40-b8fc-da0e453ae73b",
   "metadata": {
    "alternatives-data": "{\"versions\":[{\"source\":\"## 3. Collapsing and Zooming into Combined Cells\\n\\nWhen several cells belong together logically, you can combine them into a single collapsed cell to simplify the view. This is useful for grouping related logic and reducing cognitive load.\\n\\nHere's how to try it:\\n1. Click a code cell (make sure to select it by clicking the \\\"[ ]:\\\", not writing inside the code cell).\\n2. Hold Shift and press the Up or Down arrow to extend the selection.\\n3. Click the Combine Arrows icon <img src=\\\"img/collapse.svg\\\" width=\\\"15\\\"> to collapse the selected cells into one.\\n4. Once combined, click the Open Cell icon <img src=\\\"img/external-link.svg\\\" width=\\\"15\\\"> to zoom into a new tab where the cells can be edited.\\n5. After closing the zoomed-in tab, your changes will be reflected in the collapsed version.\\n6. If you want to break the group apart, click the Uncombine icon <img src=\\\"img/expand.svg\\\" width=\\\"15\\\">.\\n\\nThis feature is especially helpful when structuring long notebooks or collapsing repeated analysis steps.\\n\"}],\"activeIndex\":0}"
   },
   "source": [
    "## 3. Collapsing and Zooming into Combined Cells\n",
    "\n",
    "When several cells belong together logically, you can combine them into a single collapsed cell to simplify the view. This is useful for grouping related logic and reducing cognitive load.\n",
    "\n",
    "Here's how to try it:\n",
    "1. Click a code cell (make sure to select it by clicking the \"[ ]:\", not writing inside the code cell).\n",
    "2. Hold Shift and press the Up or Down arrow to extend the selection.\n",
    "3. Click the Combine Arrows icon <img src=\"img/collapse.svg\" width=\"15\"> to collapse the selected cells into one.\n",
    "4. Once combined, click the Open Cell icon <img src=\"img/external-link.svg\" width=\"15\"> to zoom into a new tab where the cells can be edited.\n",
    "5. After closing the zoomed-in tab, your changes will be reflected in the collapsed version.\n",
    "6. If you want to break the group apart, click the Uncombine icon <img src=\"img/expand.svg\" width=\"15\">.\n",
    "\n",
    "This feature is especially helpful when structuring long notebooks or collapsing repeated analysis steps.\n"
   ]
  },
  {
   "cell_type": "code",
   "execution_count": null,
   "id": "066ebd90-cbf8-4eed-9a44-c6c19a717f69",
   "metadata": {
    "alternatives-data": "{\"versions\":[{\"source\":\"a = 10\"}],\"activeIndex\":0}"
   },
   "outputs": [],
   "source": [
    "a = 10"
   ]
  },
  {
   "cell_type": "code",
   "execution_count": null,
   "id": "26f5c338-8f84-4ede-bbd9-2a90abbc7f4a",
   "metadata": {
    "alternatives-data": "{\"versions\":[{\"source\":\"b = 5\"}],\"activeIndex\":0}"
   },
   "outputs": [],
   "source": [
    "b = 5"
   ]
  },
  {
   "cell_type": "code",
   "execution_count": null,
   "id": "a0921f4e-2ba7-486d-9577-6c2f1aba8ca6",
   "metadata": {
    "alternatives-data": "{\"versions\":[{\"source\":\"print(\\\"Sum:\\\", a + b)\"}],\"activeIndex\":0}"
   },
   "outputs": [],
   "source": [
    "print(\"Sum:\", a + b)"
   ]
  },
  {
   "cell_type": "markdown",
   "id": "9bde1230",
   "metadata": {},
   "source": [
    "After reading the guide you can go to the next notebook: 1 - Pre-survey."
   ]
  }
 ],
 "metadata": {
  "kernelspec": {
   "display_name": "Python 3 (ipykernel)",
   "language": "python",
   "name": "python3"
  },
  "language_info": {
   "codemirror_mode": {
    "name": "ipython",
    "version": 3
   },
   "file_extension": ".py",
   "mimetype": "text/x-python",
   "name": "python",
   "nbconvert_exporter": "python",
   "pygments_lexer": "ipython3",
   "version": "3.10.11"
  }
 },
 "nbformat": 4,
 "nbformat_minor": 5
}
