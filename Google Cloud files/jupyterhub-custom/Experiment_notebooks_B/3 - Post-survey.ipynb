{
 "cells": [
  {
   "cell_type": "markdown",
   "id": "d19d0b3d",
   "metadata": {},
   "source": [
    "## Post-task Survey\n",
    "You’ve completed the coding task!\n",
    "\n",
    "This short survey asks about your experience using the notebook and the extension features.\n",
    "\n",
    "It will take about 2–3 minutes.\n",
    "\n",
    "Please enter your JupyterHub username so we can link your feedback to your responses.\n",
    "\n",
    "https://uva.fra1.qualtrics.com/jfe/form/SV_0vskRNJ65nj4cg6\n",
    "\n",
    "After completing this survey, you’re done and can close JupyterHub.\n",
    "\n"
   ]
  }
 ],
 "metadata": {
  "kernelspec": {
   "display_name": "Python 3 (ipykernel)",
   "language": "python",
   "name": "python3"
  },
  "language_info": {
   "codemirror_mode": {
    "name": "ipython",
    "version": 3
   },
   "file_extension": ".py",
   "mimetype": "text/x-python",
   "name": "python",
   "nbconvert_exporter": "python",
   "pygments_lexer": "ipython3",
   "version": "3.10.11"
  }
 },
 "nbformat": 4,
 "nbformat_minor": 5
}
