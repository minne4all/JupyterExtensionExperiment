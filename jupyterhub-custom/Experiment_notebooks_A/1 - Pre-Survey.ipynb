{
 "cells": [
  {
   "cell_type": "markdown",
   "id": "5a2b6c36-c028-4569-9a6a-a1edc7036b97",
   "metadata": {
    "alternatives-data": "{\"versions\":[{\"source\":\"Please fill out the following survey: https://uva.fra1.qualtrics.com/jfe/form/SV_ahLb1UDU6luehNk\\n\"}],\"activeIndex\":0}"
   },
   "source": [
    "## Pre-task Survey\n",
    "Before you begin the coding task, please take a moment to answer the following questions.\n",
    "This helps us understand your experience and background.\n",
    "\n",
    "This will take less than 2 minutes.\n",
    "\n",
    "Please enter your JupyterHub username so we can link your responses to your session.\n",
    "\n",
    "https://uva.fra1.qualtrics.com/jfe/form/SV_ahLb1UDU6luehNk\n",
    "\n",
    "Once you've completed the survey, you can proceed to the next notebook: 2 - Task_Disaster_Tweets."
   ]
  }
 ],
 "metadata": {
  "kernelspec": {
   "display_name": "Python 3 (ipykernel)",
   "language": "python",
   "name": "python3"
  },
  "language_info": {
   "codemirror_mode": {
    "name": "ipython",
    "version": 3
   },
   "file_extension": ".py",
   "mimetype": "text/x-python",
   "name": "python",
   "nbconvert_exporter": "python",
   "pygments_lexer": "ipython3",
   "version": "3.10.11"
  }
 },
 "nbformat": 4,
 "nbformat_minor": 5
}
